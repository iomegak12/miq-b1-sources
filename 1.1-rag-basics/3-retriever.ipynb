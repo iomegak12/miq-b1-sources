{
 "cells": [
  {
   "cell_type": "markdown",
   "id": "537ae04f",
   "metadata": {},
   "source": [
    "### Learning Retrieval of RAG"
   ]
  },
  {
   "cell_type": "code",
   "execution_count": 1,
   "id": "0081fdbc",
   "metadata": {},
   "outputs": [],
   "source": [
    "import os\n",
    "\n",
    "from dotenv import load_dotenv\n",
    "from langchain_openai import ChatOpenAI\n",
    "from langchain.document_loaders import TextLoader\n",
    "from langchain_text_splitters import RecursiveCharacterTextSplitter\n",
    "from langchain.vectorstores import FAISS\n",
    "from langchain_openai import OpenAIEmbeddings"
   ]
  },
  {
   "cell_type": "code",
   "execution_count": 2,
   "id": "838868f2",
   "metadata": {},
   "outputs": [],
   "source": [
    "load_dotenv()\n",
    "\n",
    "openai_api_key = os.getenv(\"OPENAI_API_KEY\")\n",
    "\n",
    "if not openai_api_key:\n",
    "    raise ValueError(\"Please set the OPENAI_API_KEY environment variable.\")\n",
    "\n",
    "model_name = \"gpt-4o\"\n",
    "temperature = 0.0\n",
    "llm = ChatOpenAI(\n",
    "    model=model_name,\n",
    "    temperature=temperature,\n",
    "    openai_api_key=openai_api_key\n",
    ")"
   ]
  },
  {
   "cell_type": "code",
   "execution_count": 3,
   "id": "4fbeb23c",
   "metadata": {},
   "outputs": [],
   "source": [
    "loader = TextLoader(\"./work.txt\")\n",
    "documents= loader.load()\n",
    "text_splitter = RecursiveCharacterTextSplitter(chunk_size=1000, chunk_overlap=200)\n",
    "texts = text_splitter.split_documents(documents)\n",
    "embeddings = OpenAIEmbeddings(openai_api_key=openai_api_key)"
   ]
  },
  {
   "cell_type": "code",
   "execution_count": 4,
   "id": "4bc9ae39",
   "metadata": {},
   "outputs": [
    {
     "name": "stdout",
     "output_type": "stream",
     "text": [
      "4 chunks created\n"
     ]
    }
   ],
   "source": [
    "print(len(texts), \"chunks created\")"
   ]
  },
  {
   "cell_type": "code",
   "execution_count": 5,
   "id": "9004d9c6",
   "metadata": {},
   "outputs": [],
   "source": [
    "database = FAISS.from_documents(texts, embeddings)\n",
    "retriever = database.as_retriever(search_kwargs={\"k\": 3})\n",
    "\n",
    "\n",
    "def query_database(query):\n",
    "    \"\"\"\n",
    "    Query the database with a given query string and performing Similarity Search.\n",
    "    \"\"\"\n",
    "    results = retriever.get_relevant_documents(query)\n",
    "\n",
    "    if not results:\n",
    "        return \"No relevant documents found.\"\n",
    "\n",
    "    return results"
   ]
  },
  {
   "cell_type": "code",
   "execution_count": 6,
   "id": "bb56a0c4",
   "metadata": {},
   "outputs": [
    {
     "data": {
      "text/plain": [
       "VectorStoreRetriever(tags=['FAISS', 'OpenAIEmbeddings'], vectorstore=<langchain_community.vectorstores.faiss.FAISS object at 0x0000022AADA336D0>, search_kwargs={'k': 3})"
      ]
     },
     "execution_count": 6,
     "metadata": {},
     "output_type": "execute_result"
    }
   ],
   "source": [
    "retriever"
   ]
  },
  {
   "cell_type": "code",
   "execution_count": 7,
   "id": "0d27bc85",
   "metadata": {},
   "outputs": [
    {
     "name": "stderr",
     "output_type": "stream",
     "text": [
      "C:\\Users\\LENOVO\\AppData\\Local\\Temp\\ipykernel_17012\\3094865566.py:9: LangChainDeprecationWarning: The method `BaseRetriever.get_relevant_documents` was deprecated in langchain-core 0.1.46 and will be removed in 1.0. Use :meth:`~invoke` instead.\n",
      "  results = retriever.get_relevant_documents(query)\n"
     ]
    }
   ],
   "source": [
    "relevant_documents = query_database(\"What is the main topic of the document?\")"
   ]
  },
  {
   "cell_type": "code",
   "execution_count": 8,
   "id": "ddf34c87",
   "metadata": {},
   "outputs": [
    {
     "name": "stdout",
     "output_type": "stream",
     "text": [
      "Document: It seemed curious that the same task could be painful to one person and pleasant to another, but I didn't realize at the time what this imbalance implied, because I wasn't looking for it. I didn't rea...\n",
      "Metadata: {'source': './work.txt'}\n",
      "\n",
      "--------------------------------------------------------------------------------\n",
      "Document: \"Didn't it get boring when you got to be about 15?\" I asked.\n",
      "\n",
      "\"No,\" he said, \"by then I was interested in maths.\"\n",
      "\n",
      "In another conversation he told me that what he really liked was solving problems. To...\n",
      "Metadata: {'source': './work.txt'}\n",
      "\n",
      "--------------------------------------------------------------------------------\n",
      "Document: What Doesn't Seem Like Work?\n",
      "\n",
      "January 2015\n",
      "\n",
      "My father is a mathematician. For most of my childhood he worked for Westinghouse, modelling nuclear reactors.\n",
      "\n",
      "He was one of those lucky people who know ea...\n",
      "Metadata: {'source': './work.txt'}\n",
      "\n",
      "--------------------------------------------------------------------------------\n"
     ]
    }
   ],
   "source": [
    "for doc in relevant_documents:\n",
    "    print(f\"Document: {doc.page_content[:200]}...\")  # Print the first 200 characters of each document\n",
    "    print(f\"Metadata: {doc.metadata}\\n\")  # Print metadata if available\n",
    "    print(\"-\" * 80)  # Separator for clarity"
   ]
  },
  {
   "cell_type": "code",
   "execution_count": 9,
   "id": "436f72cc",
   "metadata": {},
   "outputs": [
    {
     "name": "stdout",
     "output_type": "stream",
     "text": [
      "Document: What Doesn't Seem Like Work?\n",
      "\n",
      "January 2015\n",
      "\n",
      "My father is a mathematician. For most of my childhood he worked for Westinghouse, modelling nuclear reactors.\n",
      "\n",
      "He was one of those lucky people who know ea...\n",
      "Metadata: {'source': './work.txt'}\n",
      "\n",
      "Document: \"Didn't it get boring when you got to be about 15?\" I asked.\n",
      "\n",
      "\"No,\" he said, \"by then I was interested in maths.\"\n",
      "\n",
      "In another conversation he told me that what he really liked was solving problems. To...\n",
      "Metadata: {'source': './work.txt'}\n",
      "\n",
      "Document: It seemed curious that the same task could be painful to one person and pleasant to another, but I didn't realize at the time what this imbalance implied, because I wasn't looking for it. I didn't rea...\n",
      "Metadata: {'source': './work.txt'}\n"
     ]
    }
   ],
   "source": [
    "relevant_documents = query_database(\n",
    "    \"What types of things did the author want to build?\")\n",
    "\n",
    "print(\"\\n\\n\".join(\n",
    "    [\n",
    "        f\"Document: {doc.page_content[:200]}...\\nMetadata: {doc.metadata}\"\n",
    "        for doc in relevant_documents\n",
    "    ]\n",
    "))"
   ]
  }
 ],
 "metadata": {
  "kernelspec": {
   "display_name": "env",
   "language": "python",
   "name": "python3"
  },
  "language_info": {
   "codemirror_mode": {
    "name": "ipython",
    "version": 3
   },
   "file_extension": ".py",
   "mimetype": "text/x-python",
   "name": "python",
   "nbconvert_exporter": "python",
   "pygments_lexer": "ipython3",
   "version": "3.11.9"
  }
 },
 "nbformat": 4,
 "nbformat_minor": 5
}

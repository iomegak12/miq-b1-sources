{
 "cells": [
  {
   "cell_type": "markdown",
   "id": "36ec8827",
   "metadata": {},
   "source": [
    "### RAG Fundamentals - Document Loaders"
   ]
  },
  {
   "cell_type": "code",
   "execution_count": 1,
   "id": "f518375c",
   "metadata": {},
   "outputs": [
    {
     "name": "stderr",
     "output_type": "stream",
     "text": [
      "C:\\Users\\LENOVO\\AppData\\Local\\Temp\\ipykernel_10068\\1827373530.py:3: LangChainDeprecationWarning: The class `UnstructuredFileLoader` was deprecated in LangChain 0.2.8 and will be removed in 1.0. An updated version of the class exists in the :class:`~langchain-unstructured package and should be used instead. To use it run `pip install -U :class:`~langchain-unstructured` and import as `from :class:`~langchain_unstructured import UnstructuredLoader``.\n",
      "  loader = UnstructuredFileLoader(\"./when.txt\")\n",
      "libmagic is unavailable but assists in filetype detection. Please consider installing libmagic for better results.\n"
     ]
    }
   ],
   "source": [
    "from langchain.document_loaders import UnstructuredFileLoader\n",
    "\n",
    "loader = UnstructuredFileLoader(\"./when.txt\")\n",
    "\n",
    "data = loader.load()"
   ]
  },
  {
   "cell_type": "code",
   "execution_count": 2,
   "id": "f7d6071d",
   "metadata": {},
   "outputs": [
    {
     "name": "stdout",
     "output_type": "stream",
     "text": [
      "1\n"
     ]
    }
   ],
   "source": [
    "print(len(data))"
   ]
  },
  {
   "cell_type": "code",
   "execution_count": 3,
   "id": "8a64d19e",
   "metadata": {},
   "outputs": [
    {
     "name": "stdout",
     "output_type": "stream",
     "text": [
      "{'source': './when.txt'}\n",
      "When To Do What You Love\n",
      "\n",
      "September 2024\n",
      "\n",
      "There's some debate about whether it's a good idea to \"follow your passion.\" In fact the question is impossible to answer with a simple yes or no. Sometimes you should and sometimes you shouldn't, but the border between should and shouldn't is very complicated. The only way to give a general answer is to trace it.\n",
      "\n",
      "When people talk about this question, there's always an implicit \"instead of.\" All other things being equal, why wouldn't you work on what interests you the most? So even raising the question implies that all other things aren't equal, and that you have to choose between working on what interests you the most and something else, like what pays the best.\n",
      "\n",
      "And indeed if your main goal is to make money, you can't usually afford to work on what interests you the most. People pay you for doing what they want, not what you want. But there's an obvious exception: when you both want the same thing. For example, if you love football, and you'\n"
     ]
    }
   ],
   "source": [
    "print(data[0].metadata)\n",
    "print(data[0].page_content[:1000])  # Print the first 1000 characters of the content"
   ]
  },
  {
   "cell_type": "code",
   "execution_count": 4,
   "id": "63dfa47d",
   "metadata": {},
   "outputs": [
    {
     "name": "stdout",
     "output_type": "stream",
     "text": [
      "Chunk ID: 1, Length: 714\n",
      "Chunk ID: 2, Length: 965\n",
      "Chunk ID: 3, Length: 751\n",
      "Chunk ID: 4, Length: 827\n",
      "Chunk ID: 5, Length: 779\n",
      "Chunk ID: 6, Length: 994\n",
      "Chunk ID: 7, Length: 716\n",
      "Chunk ID: 8, Length: 685\n",
      "Chunk ID: 9, Length: 681\n",
      "Chunk ID: 10, Length: 661\n",
      "Chunk ID: 11, Length: 984\n"
     ]
    }
   ],
   "source": [
    "from langchain.text_splitter import RecursiveCharacterTextSplitter\n",
    "\n",
    "text_splitter = RecursiveCharacterTextSplitter(\n",
    "    chunk_size=1000,\n",
    "    chunk_overlap=200,\n",
    "    length_function=len,\n",
    "    separators=[\"\\n\\n\", \"\\n\", \" \", \"\"]\n",
    ")\n",
    "\n",
    "texts = text_splitter.create_documents([doc.page_content for doc in data])\n",
    "for idx, text in enumerate(texts, start=1):\n",
    "    text.metadata = data[0].metadata.copy()  # Use a copy to avoid shared references\n",
    "    text.metadata[\"chunk_id\"] = idx\n",
    "    print(f\"Chunk ID: {text.metadata['chunk_id']}, Length: {len(text.page_content)}\")\n"
   ]
  },
  {
   "cell_type": "code",
   "execution_count": 5,
   "id": "263b7553",
   "metadata": {},
   "outputs": [
    {
     "name": "stdout",
     "output_type": "stream",
     "text": [
      "[Document(metadata={'source': './when.txt', 'chunk_id': 1}, page_content='When To Do What You Love\\n\\nSeptember 2024\\n\\nThere\\'s some debate about whether it\\'s a good idea to \"follow your passion.\" In fact the question is impossible to answer with a simple yes or no. Sometimes you should and sometimes you shouldn\\'t, but the border between should and shouldn\\'t is very complicated. The only way to give a general answer is to trace it.\\n\\nWhen people talk about this question, there\\'s always an implicit \"instead of.\" All other things being equal, why wouldn\\'t you work on what interests you the most? So even raising the question implies that all other things aren\\'t equal, and that you have to choose between working on what interests you the most and something else, like what pays the best.'), Document(metadata={'source': './when.txt', 'chunk_id': 2}, page_content=\"And indeed if your main goal is to make money, you can't usually afford to work on what interests you the most. People pay you for doing what they want, not what you want. But there's an obvious exception: when you both want the same thing. For example, if you love football, and you're good enough at it, you can get paid a lot to play it.\\n\\nOf course the odds are against you in a case like football, because so many other people like playing it too. This is not to say you shouldn't try though. It depends how much ability you have and how hard you're willing to work.\\n\\nThe odds are better when you have strange tastes: when you like something that pays well and that few other people like. For example, it's clear that Bill Gates truly loved running a software company. He didn't just love programming, which a lot of people do. He loved writing software for customers. That is a very strange taste indeed, but if you have it, you can make a lot by indulging it.\"), Document(metadata={'source': './when.txt', 'chunk_id': 3}, page_content=\"There are even some people who have a genuine intellectual interest in making money. This is distinct from mere greed. They just can't help noticing when something is mispriced, and can't help doing something about it. It's like a puzzle for them. [1]\\n\\nIn fact there's an edge case here so spectacular that it turns all the preceding advice on its head. If you want to make a really huge amount of money — hundreds of millions or even billions of dollars — it turns out to be very useful to work on what interests you the most. The reason is not the extra motivation you get from doing this, but that the way to make a really large amount of money is to start a startup, and working on what interests you is an excellent way to discover startup ideas.\"), Document(metadata={'source': './when.txt', 'chunk_id': 4}, page_content=\"Many if not most of the biggest startups began as projects the founders were doing for fun. Apple, Google, and Facebook all began that way. Why is this pattern so common? Because the best ideas tend to be such outliers that you'd overlook them if you were consciously looking for ways to make money. Whereas if you're young and good at technology, your unconscious instincts about what would be interesting to work on are very well aligned with what needs to be built.\\n\\nSo there's something like a midwit peak for making money. If you don't need to make much, you can work on whatever you're most interested in; if you want to become moderately rich, you can't usually afford to; but if you want to become super rich, and you're young and good at technology, working on what you're most interested in becomes a good idea again.\"), Document(metadata={'source': './when.txt', 'chunk_id': 5}, page_content=\"What if you're not sure what you want? What if you're attracted to the idea of making money and more attracted to some kinds of work than others, but neither attraction predominates? How do you break ties?\\n\\nThe key here is to understand that such ties are only apparent. When you have trouble choosing between following your interests and making money, it's never because you have complete knowledge of yourself and of the types of work you're choosing between, and the options are perfectly balanced. When you can't decide which path to take, it's almost always due to ignorance. In fact you're usually suffering from three kinds of ignorance simultaneously: you don't know what makes you happy, what the various kinds of work are really like, or how well you could do them. [2]\"), Document(metadata={'source': './when.txt', 'chunk_id': 6}, page_content=\"In a way this ignorance is excusable. It's often hard to predict these things, and no one even tells you that you need to. If you're ambitious you're told you should go to college, and this is good advice so far as it goes, but that's where it usually ends. No one tells you how to figure out what to work on, or how hard this can be.\\n\\nWhat do you do in the face of uncertainty? Get more certainty. And probably the best way to do that is to try working on things you're interested in. That will get you more information about how interested you are in them, how good you are at them, and how much scope they offer for ambition.\\n\\nDon't wait. Don't wait till the end of college to figure out what to work on. Don't even wait for internships during college. You don't necessarily need a job doing x in order to work on x; often you can just start doing it in some form yourself. And since figuring out what to work on is a problem that could take years to solve, the sooner you start, the better.\"), Document(metadata={'source': './when.txt', 'chunk_id': 7}, page_content=\"One useful trick for judging different kinds of work is to look at who your colleagues will be. You'll become like whoever you work with. Do you want to become like these people?\\n\\nIndeed, the difference in character between different kinds of work is magnified by the fact that everyone else is facing the same decisions as you. If you choose a kind of work mainly for how well it pays, you'll be surrounded by other people who chose it for the same reason, and that will make it even more soul-sucking than it seems from the outside. Whereas if you choose work you're genuinely interested in, you'll be surrounded mostly by other people who are genuinely interested in it, and that will make it extra inspiring. [3]\"), Document(metadata={'source': './when.txt', 'chunk_id': 8}, page_content='The other thing you do in the face of uncertainty is to make choices that are uncertainty-proof. The less sure you are about what to do, the more important it is to choose options that give you more options in the future. I call this \"staying upwind.\" If you\\'re unsure whether to major in math or economics, for example, choose math; math is upwind of economics in the sense that it will be easier to switch later from math to economics than from economics to math.\\n\\nThere\\'s one case, though, where it\\'s easy to say whether you should work on what interests you the most: if you want to do great work. This is not a sufficient condition for doing great work, but it is a necessary one.'), Document(metadata={'source': './when.txt', 'chunk_id': 9}, page_content='There\\'s a lot of selection bias in advice about whether to \"follow your passion,\" and this is the reason. Most such advice comes from people who are famously successful, and if you ask someone who\\'s famously successful how to do what they did, most will tell you that you have to work on what you\\'re most interested in. And this is in fact true.\\n\\nThat doesn\\'t mean it\\'s the right advice for everyone. Not everyone can do great work, or wants to. But if you do want to, the complicated question of whether or not to work on what interests you the most becomes simple. The answer is yes. The root of great work is a sort of ambitious curiosity, and you can\\'t manufacture that.\\n\\nNotes'), Document(metadata={'source': './when.txt', 'chunk_id': 10}, page_content=\"Notes\\n\\n[1] These examples show why it's a mistake to assume that economic inequality must be evidence of some kind of brokenness or unfairness. It's obvious that different people have different interests, and that some interests yield far more money than others, so how can it not be obvious that some people will end up much richer than others? In a world where some people like to write enterprise software and others like to make studio pottery, economic inequality is the natural outcome.\\n\\n[2] Difficulty choosing between interests is a different matter. That's not always due to ignorance. It's often intrinsically difficult. I still have trouble doing it.\"), Document(metadata={'source': './when.txt', 'chunk_id': 11}, page_content=\"[2] Difficulty choosing between interests is a different matter. That's not always due to ignorance. It's often intrinsically difficult. I still have trouble doing it.\\n\\n[3] You can't always take people at their word on this. Since it's more prestigious to work on things you're interested in than to be driven by money, people who are driven mainly by money will often claim to be more interested in their work than they actually are. One way to test such claims is by doing the following thought experiment: if their work didn't pay well, would they take day jobs doing something else in order to do it in their spare time? Lots of mathematicians and scientists and engineers would. Historically lots have. But I don't think as many investment bankers would.\\n\\nThis thought experiment is also useful for distinguishing between university departments.\\n\\nThanks to Trevor Blackwell, Paul Buchheit, Jessica Livingston, Robert Morris, Harj Taggar, and Garry Tan for reading drafts of this.\")]\n",
      "11\n",
      "{'source': './when.txt', 'chunk_id': 1}\n",
      "When To Do What You Love\n",
      "\n",
      "September 2024\n",
      "\n",
      "There's some debate about whether it's a good idea to \"follow your passion.\" In fact the question is impossible to answer with a simple yes or no. Sometimes you should and sometimes you shouldn't, but the border between should and shouldn't is very complicated. The only way to give a general answer is to trace it.\n",
      "\n",
      "When people talk about this question, there's always an implicit \"instead of.\" All other things being equal, why wouldn't you work on what interests you the most? So even raising the question implies that all other things aren't equal, and that you have to choose between working on what interests you the most and something else, like what pays the best.\n"
     ]
    }
   ],
   "source": [
    "print(texts)\n",
    "print(len(texts))\n",
    "print(texts[0].metadata)\n",
    "\n",
    "# Print the first 1000 characters of the content\n",
    "print(texts[0].page_content[:1000])"
   ]
  }
 ],
 "metadata": {
  "kernelspec": {
   "display_name": "env",
   "language": "python",
   "name": "python3"
  },
  "language_info": {
   "codemirror_mode": {
    "name": "ipython",
    "version": 3
   },
   "file_extension": ".py",
   "mimetype": "text/x-python",
   "name": "python",
   "nbconvert_exporter": "python",
   "pygments_lexer": "ipython3",
   "version": "3.11.9"
  }
 },
 "nbformat": 4,
 "nbformat_minor": 5
}

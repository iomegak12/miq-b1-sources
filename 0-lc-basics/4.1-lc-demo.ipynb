{
 "cells": [
  {
   "cell_type": "markdown",
   "id": "ba8d4599",
   "metadata": {},
   "source": [
    "### LangChain - Summary Chain - Out-of-the-Box"
   ]
  },
  {
   "cell_type": "code",
   "execution_count": 1,
   "id": "95f0c1aa",
   "metadata": {},
   "outputs": [],
   "source": [
    "import os\n",
    "\n",
    "from dotenv import load_dotenv\n",
    "from langchain_openai import ChatOpenAI\n",
    "from langchain_core.prompts import PromptTemplate\n",
    "from langchain.chains.summarize import load_summarize_chain\n",
    "from langchain.text_splitter import RecursiveCharacterTextSplitter"
   ]
  },
  {
   "cell_type": "code",
   "execution_count": 2,
   "id": "21a23394",
   "metadata": {},
   "outputs": [],
   "source": [
    "load_dotenv()\n",
    "\n",
    "openai_api_key = os.environ[\"OPENAI_API_KEY\"]\n",
    "model_name = \"gpt-3.5-turbo\"\n",
    "temperature = 0.1\n",
    "max_tokens = 1000\n",
    "\n",
    "llm = ChatOpenAI(\n",
    "    model = model_name,\n",
    "    temperature=temperature,\n",
    "    max_tokens=max_tokens,\n",
    "    openai_api_key = openai_api_key\n",
    ")"
   ]
  },
  {
   "cell_type": "code",
   "execution_count": 3,
   "id": "6fd012bf",
   "metadata": {},
   "outputs": [
    {
     "name": "stdout",
     "output_type": "stream",
     "text": [
      "Be Good\n",
      "\n",
      "April 2008\n",
      "\n",
      "(This essay is derived from a talk at the 2008 Startup School.)\n",
      "\n",
      "About a month \n"
     ]
    }
   ],
   "source": [
    "with open(\"../lc-training-data/good.txt\", \"r\") as file:\n",
    "    text = file.read()\n",
    "    \n",
    "print(text[:100])"
   ]
  },
  {
   "cell_type": "code",
   "execution_count": 4,
   "id": "ceac275c",
   "metadata": {},
   "outputs": [
    {
     "name": "stdout",
     "output_type": "stream",
     "text": [
      "There are 3581 Token(s) in the file!\n"
     ]
    }
   ],
   "source": [
    "number_of_tokens = llm.get_num_tokens(text)\n",
    "\n",
    "print(f\"There are {number_of_tokens} Token(s) in the file!\")"
   ]
  },
  {
   "cell_type": "code",
   "execution_count": 5,
   "id": "99463b01",
   "metadata": {},
   "outputs": [],
   "source": [
    "text_splitter = RecursiveCharacterTextSplitter(\n",
    "    separators=[\"\\n\\n\", \"\\n\"],\n",
    "    chunk_size = 3000,\n",
    "    chunk_overlap = 300\n",
    ")"
   ]
  },
  {
   "cell_type": "code",
   "execution_count": 6,
   "id": "03229ed4",
   "metadata": {},
   "outputs": [
    {
     "name": "stdout",
     "output_type": "stream",
     "text": [
      "Now, you have 6 documents instead of 1 document!\n"
     ]
    }
   ],
   "source": [
    "documents = text_splitter.create_documents([text])\n",
    "\n",
    "print(f\"Now, you have {len(documents)} documents instead of 1 document!\")"
   ]
  },
  {
   "cell_type": "code",
   "execution_count": 7,
   "id": "637d8311",
   "metadata": {},
   "outputs": [],
   "source": [
    "chain = load_summarize_chain(\n",
    "    llm = llm,\n",
    "    chain_type = \"map_reduce\"\n",
    ")\n"
   ]
  },
  {
   "cell_type": "code",
   "execution_count": 8,
   "id": "e9b844aa",
   "metadata": {},
   "outputs": [],
   "source": [
    "output = chain.invoke(documents)"
   ]
  },
  {
   "cell_type": "code",
   "execution_count": 9,
   "id": "0e1713b6",
   "metadata": {},
   "outputs": [
    {
     "name": "stdout",
     "output_type": "stream",
     "text": [
      "The essay emphasizes the importance of creating something people want in startups rather than focusing solely on making money. It explores the idea of running a business like a charity and suggests that successful startups often exhibit nonprofit-like behavior. The article discusses the value of benevolence in business, using examples like Google and Microsoft. It also highlights the importance of launching quickly, having a sense of mission, and doing good for people in the startup world. The author stresses the benefits of being good and benevolent in business, attracting investors, customers, and top talent. They also discuss the undervaluation of starting a company with benevolent aims and the need for accountability in such projects.\n"
     ]
    }
   ],
   "source": [
    "print(output[\"output_text\"])\n"
   ]
  }
 ],
 "metadata": {
  "kernelspec": {
   "display_name": "env",
   "language": "python",
   "name": "python3"
  },
  "language_info": {
   "codemirror_mode": {
    "name": "ipython",
    "version": 3
   },
   "file_extension": ".py",
   "mimetype": "text/x-python",
   "name": "python",
   "nbconvert_exporter": "python",
   "pygments_lexer": "ipython3",
   "version": "3.11.9"
  }
 },
 "nbformat": 4,
 "nbformat_minor": 5
}

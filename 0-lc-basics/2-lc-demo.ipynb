{
 "cells": [
  {
   "cell_type": "markdown",
   "id": "f6bc2a35",
   "metadata": {},
   "source": [
    "### LangChain Basics - LCEL"
   ]
  },
  {
   "cell_type": "code",
   "execution_count": 1,
   "id": "fa63b266",
   "metadata": {},
   "outputs": [],
   "source": [
    "import os\n",
    "\n",
    "from dotenv import load_dotenv\n",
    "from langchain_openai import ChatOpenAI\n",
    "from langchain_core.prompts import ChatPromptTemplate"
   ]
  },
  {
   "cell_type": "code",
   "execution_count": 3,
   "id": "28700b2b",
   "metadata": {},
   "outputs": [],
   "source": [
    "load_dotenv()\n",
    "\n",
    "openai_api_key = os.getenv(\"OPENAI_API_KEY\")\n",
    "model_name=os.getenv(\"MODEL_NAME\")"
   ]
  },
  {
   "cell_type": "code",
   "execution_count": 4,
   "id": "6d7aad01",
   "metadata": {},
   "outputs": [],
   "source": [
    "if not openai_api_key:\n",
    "    raise ValueError(\"OPENAI_API_KEY environment variable not set\")\n",
    "\n",
    "if not model_name:\n",
    "    raise ValueError(\"MODEL_NAME environment variable not set\")"
   ]
  },
  {
   "cell_type": "code",
   "execution_count": 5,
   "id": "8db24749",
   "metadata": {},
   "outputs": [],
   "source": [
    "llm = ChatOpenAI(\n",
    "    model=model_name,\n",
    "    temperature=0.0,\n",
    "    max_tokens=1000,\n",
    "    openai_api_key=openai_api_key\n",
    ")"
   ]
  },
  {
   "cell_type": "code",
   "execution_count": 6,
   "id": "a82813f2",
   "metadata": {},
   "outputs": [],
   "source": [
    "prompt = ChatPromptTemplate.from_template(\n",
    "    \"You are a helpful assistant. Give me a professional and good tweet about {topic1} and {topic2}.\"\n",
    ")"
   ]
  },
  {
   "cell_type": "code",
   "execution_count": 7,
   "id": "9902eae1",
   "metadata": {},
   "outputs": [],
   "source": [
    "chain = prompt | llm"
   ]
  },
  {
   "cell_type": "code",
   "execution_count": 8,
   "id": "294eebc5",
   "metadata": {},
   "outputs": [
    {
     "name": "stdout",
     "output_type": "stream",
     "text": [
      "\"Exploring the vibrant city of Hyderabad, where history and modernity blend seamlessly. The iconic Charminar stands as a testament to the city's rich heritage and architectural brilliance. A must-visit for anyone seeking to experience the heart of India's cultural diversity. #Hyderabad #Charminar #IncredibleIndia\"\n"
     ]
    }
   ],
   "source": [
    "response = chain.invoke({\n",
    "    \"topic1\": \"Hyderabad\",\n",
    "    \"topic2\": \"Charminar\"\n",
    "})\n",
    "\n",
    "print(response.content)"
   ]
  }
 ],
 "metadata": {
  "kernelspec": {
   "display_name": "env",
   "language": "python",
   "name": "python3"
  },
  "language_info": {
   "codemirror_mode": {
    "name": "ipython",
    "version": 3
   },
   "file_extension": ".py",
   "mimetype": "text/x-python",
   "name": "python",
   "nbconvert_exporter": "python",
   "pygments_lexer": "ipython3",
   "version": "3.11.9"
  }
 },
 "nbformat": 4,
 "nbformat_minor": 5
}

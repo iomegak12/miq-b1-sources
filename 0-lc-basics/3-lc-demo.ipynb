{
 "cells": [
  {
   "cell_type": "markdown",
   "id": "f7c469e8",
   "metadata": {},
   "source": [
    "### LangChain Basics - Complex / Multiple Chains"
   ]
  },
  {
   "cell_type": "code",
   "execution_count": 1,
   "id": "44aad369",
   "metadata": {},
   "outputs": [],
   "source": [
    "import os\n",
    "\n",
    "from dotenv import load_dotenv\n",
    "from langchain_openai import ChatOpenAI\n",
    "from langchain_core.prompts import PromptTemplate\n",
    "from langchain.chains import LLMChain, SequentialChain"
   ]
  },
  {
   "cell_type": "code",
   "execution_count": 2,
   "id": "2cf73d41",
   "metadata": {},
   "outputs": [],
   "source": [
    "load_dotenv()\n",
    "\n",
    "openai_api_key = os.getenv(\"OPENAI_API_KEY\")\n",
    "model_name=os.getenv(\"MODEL_NAME\", \"gpt-3.5-turbo\")"
   ]
  },
  {
   "cell_type": "code",
   "execution_count": 3,
   "id": "09ddfffd",
   "metadata": {},
   "outputs": [],
   "source": [
    "llm = ChatOpenAI(\n",
    "    model=model_name,\n",
    "    temperature=0.0,\n",
    "    max_tokens=1000,\n",
    "    openai_api_key=openai_api_key\n",
    ")"
   ]
  },
  {
   "cell_type": "code",
   "execution_count": 4,
   "id": "5727ebc2",
   "metadata": {},
   "outputs": [],
   "source": [
    "template1 = \"\"\"\n",
    "    You're a helpful assistant, who has good and proficient english writing skills.\n",
    "    Write a Blog Outline for the following topic:\n",
    "    Topic: {topic}\n",
    "\"\"\"\n",
    "\n",
    "template2 = \"\"\"\n",
    "    You're a helpful assistant, who has good and proficient english writing skills.\n",
    "    Write a Blog Post based on the following outline:\n",
    "    Outline: {outline}\n",
    "\"\"\"\n",
    "\n",
    "template3 = \"\"\"\n",
    "    You're a helpful assistant, who has good and proficient language skills including Translating.\n",
    "    \n",
    "    Translate the following text to Telegu:\n",
    "    {outline}\n",
    "\"\"\"\n",
    "\n",
    "prompt1 = PromptTemplate(\n",
    "    input_variables=[\"topic\"],\n",
    "    template=template1\n",
    ")\n",
    "\n",
    "prompt2 = PromptTemplate(\n",
    "    input_variables=[\"outline\"],\n",
    "    template=template2\n",
    ")\n",
    "\n",
    "prompt3 = PromptTemplate(\n",
    "    input_variables=[\"blog_post\"],\n",
    "    template=template3\n",
    ")"
   ]
  },
  {
   "cell_type": "code",
   "execution_count": 5,
   "id": "24801c70",
   "metadata": {},
   "outputs": [
    {
     "name": "stderr",
     "output_type": "stream",
     "text": [
      "C:\\Users\\LENOVO\\AppData\\Local\\Temp\\ipykernel_26560\\2992389622.py:1: LangChainDeprecationWarning: The class `LLMChain` was deprecated in LangChain 0.1.17 and will be removed in 1.0. Use :meth:`~RunnableSequence, e.g., `prompt | llm`` instead.\n",
      "  chain1 = LLMChain(\n"
     ]
    }
   ],
   "source": [
    "chain1 = LLMChain(\n",
    "    llm=llm,\n",
    "    prompt=prompt1,\n",
    "    output_key=\"outline\"\n",
    ")\n",
    "\n",
    "chain2 = LLMChain(\n",
    "    llm=llm,\n",
    "    prompt=prompt2,\n",
    "    output_key=\"blog_post\"\n",
    ")\n",
    "\n",
    "chain3 = LLMChain(\n",
    "    llm=llm,\n",
    "    prompt=prompt3,\n",
    "    output_key=\"translated_text\"\n",
    ")\n",
    "\n",
    "sequential_chain = SequentialChain(\n",
    "    chains=[chain1, chain2, chain3],\n",
    "    input_variables=[\"topic\"],\n",
    "    output_variables=[\"outline\", \"blog_post\", \"translated_text\"],\n",
    "    verbose=True\n",
    ")"
   ]
  },
  {
   "cell_type": "code",
   "execution_count": 6,
   "id": "90a8f75f",
   "metadata": {},
   "outputs": [
    {
     "name": "stdout",
     "output_type": "stream",
     "text": [
      "\n",
      "\n",
      "\u001b[1m> Entering new SequentialChain chain...\u001b[0m\n",
      "\n",
      "\u001b[1m> Finished chain.\u001b[0m\n"
     ]
    }
   ],
   "source": [
    "response = sequential_chain.invoke({\n",
    "    \"topic\": \"The Future of Artificial Intelligence\"\n",
    "})"
   ]
  },
  {
   "cell_type": "code",
   "execution_count": 7,
   "id": "5d987f2e",
   "metadata": {},
   "outputs": [
    {
     "name": "stdout",
     "output_type": "stream",
     "text": [
      "Outline:\n",
      "# Blog Outline: The Future of Artificial Intelligence\n",
      "\n",
      "## Introduction\n",
      "- Brief overview of Artificial Intelligence (AI) and its current state\n",
      "- Importance of discussing the future of AI\n",
      "- Purpose and scope of the blog\n",
      "\n",
      "## Section 1: The Evolution of AI\n",
      "- Historical background of AI development\n",
      "- Key milestones in AI technology\n",
      "- Current trends and advancements in AI\n",
      "\n",
      "## Section 2: Emerging AI Technologies\n",
      "- Overview of cutting-edge AI technologies\n",
      "  - Machine Learning and Deep Learning\n",
      "  - Natural Language Processing (NLP)\n",
      "  - Computer Vision\n",
      "  - Robotics and Automation\n",
      "- Potential applications and industries impacted\n",
      "\n",
      "## Section 3: AI in Everyday Life\n",
      "- Current applications of AI in daily life\n",
      "  - Virtual assistants and smart home devices\n",
      "  - Personalized recommendations and content curation\n",
      "  - Healthcare and medical diagnostics\n",
      "- Future possibilities and innovations\n",
      "\n",
      "## Section 4: Ethical and Societal Implications\n",
      "- Ethical considerations in AI development\n",
      "  - Bias and fairness in AI algorithms\n",
      "  - Privacy and data security concerns\n",
      "- Societal impact of AI\n",
      "  - Job displacement and the future of work\n",
      "  - AI in decision-making and governance\n",
      "\n",
      "## Section 5: The Role of AI in Solving Global Challenges\n",
      "- AI's potential in addressing climate change\n",
      "- AI in healthcare and disease prevention\n",
      "- Enhancing education and learning through AI\n",
      "\n",
      "## Section 6: The Future of AI Research and Development\n",
      "- Key areas of research and innovation\n",
      "- The role of governments and policy in AI development\n",
      "- Collaboration between academia, industry, and government\n",
      "\n",
      "## Section 7: Preparing for an AI-Driven Future\n",
      "- Skills and education needed for an AI-centric world\n",
      "- Encouraging responsible AI development and use\n",
      "- Building public trust and understanding of AI\n",
      "\n",
      "## Conclusion\n",
      "- Recap of the potential and challenges of AI\n",
      "- The importance of proactive engagement with AI's future\n",
      "- Call to action for readers to stay informed and involved\n",
      "\n",
      "## Additional Resources\n",
      "- Recommended books, articles, and documentaries on AI\n",
      "- Links to AI research organizations and think tanks\n",
      "- Suggestions for further reading and exploration\n",
      "\n",
      "## Call to Action\n",
      "- Encourage readers to share their thoughts and predictions about AI\n",
      "- Invite readers to subscribe for more content on technology and innovation\n"
     ]
    }
   ],
   "source": [
    "print(\"Outline:\")\n",
    "print(response[\"outline\"])"
   ]
  },
  {
   "cell_type": "code",
   "execution_count": 8,
   "id": "1b91e504",
   "metadata": {},
   "outputs": [
    {
     "name": "stdout",
     "output_type": "stream",
     "text": [
      "\n",
      "Blog Post:\n",
      "# The Future of Artificial Intelligence\n",
      "\n",
      "## Introduction\n",
      "\n",
      "Artificial Intelligence (AI) has rapidly evolved from a niche field of study to a transformative force reshaping industries and daily life. As AI continues to advance, understanding its future trajectory becomes crucial. This blog explores the evolution of AI, emerging technologies, and their implications for society, aiming to provide a comprehensive overview of what lies ahead.\n",
      "\n",
      "## Section 1: The Evolution of AI\n",
      "\n",
      "AI's journey began in the mid-20th century, with pioneers like Alan Turing laying the groundwork for machine intelligence. Key milestones include the development of expert systems in the 1970s, the rise of machine learning in the 1990s, and the recent breakthroughs in deep learning. Today, AI is characterized by rapid advancements in data processing, algorithmic sophistication, and computational power, setting the stage for unprecedented innovation.\n",
      "\n",
      "## Section 2: Emerging AI Technologies\n",
      "\n",
      "Cutting-edge AI technologies are driving this innovation. Machine Learning and Deep Learning enable systems to learn from vast datasets, improving their accuracy and efficiency. Natural Language Processing (NLP) allows machines to understand and generate human language, enhancing communication. Computer Vision empowers machines to interpret visual data, while Robotics and Automation streamline processes across industries. These technologies are poised to revolutionize sectors such as healthcare, finance, and manufacturing.\n",
      "\n",
      "## Section 3: AI in Everyday Life\n",
      "\n",
      "AI is already embedded in our daily routines. Virtual assistants like Siri and Alexa manage tasks and provide information, while smart home devices enhance convenience and security. Personalized recommendations on platforms like Netflix and Spotify tailor content to individual preferences. In healthcare, AI aids in diagnostics and treatment planning, promising improved patient outcomes. Future innovations may include AI-driven education tools and autonomous transportation systems.\n",
      "\n",
      "## Section 4: Ethical and Societal Implications\n",
      "\n",
      "As AI permeates society, ethical considerations become paramount. Ensuring fairness and mitigating bias in AI algorithms is critical to prevent discrimination. Privacy and data security concerns must be addressed to protect individuals' information. The societal impact of AI includes potential job displacement, necessitating a reevaluation of the future of work. Additionally, AI's role in decision-making and governance raises questions about accountability and transparency.\n",
      "\n",
      "## Section 5: The Role of AI in Solving Global Challenges\n",
      "\n",
      "AI holds promise in tackling global challenges. In addressing climate change, AI can optimize energy consumption and predict environmental changes. In healthcare, AI aids in disease prevention and personalized medicine. Education can be enhanced through AI-driven personalized learning experiences, making education more accessible and effective.\n",
      "\n",
      "## Section 6: The Future of AI Research and Development\n",
      "\n",
      "Future AI research will focus on improving AI's interpretability, robustness, and ethical alignment. Governments and policymakers play a crucial role in shaping AI's development through regulations and incentives. Collaboration between academia, industry, and government is essential to drive innovation and ensure AI benefits society as a whole.\n",
      "\n",
      "## Section 7: Preparing for an AI-Driven Future\n",
      "\n",
      "Preparing for an AI-centric world requires equipping individuals with the necessary skills and education. Encouraging responsible AI development and use is vital to prevent misuse and build public trust. Fostering a deeper understanding of AI among the public will facilitate informed discussions and decisions about its future.\n",
      "\n",
      "## Conclusion\n",
      "\n",
      "AI's potential is vast, but so are the challenges it presents. Proactive engagement with AI's future is essential to harness its benefits while mitigating risks. By staying informed and involved, we can shape an AI-driven future that aligns with our values and aspirations.\n",
      "\n",
      "## Additional Resources\n",
      "\n",
      "For those interested in delving deeper into AI, consider exploring the following resources:\n",
      "\n",
      "- Books: \"Artificial Intelligence: A Guide to Intelligent Systems\" by Michael Negnevitsky\n",
      "- Articles: \"The Malicious Use of Artificial Intelligence: Forecasting, Prevention, and Mitigation\" by Brundage et al.\n",
      "- Documentaries: \"Do You Trust This Computer?\" directed by Chris Paine\n",
      "- Research Organizations: OpenAI, DeepMind, and the AI Now Institute\n",
      "\n",
      "## Call to Action\n",
      "\n",
      "We invite you to share your thoughts and predictions about the future of AI in the comments below. Subscribe to our blog for more insights on technology and innovation, and join us in exploring the exciting possibilities that AI holds for our world.\n"
     ]
    }
   ],
   "source": [
    "print(\"\\nBlog Post:\")\n",
    "print(response[\"blog_post\"])"
   ]
  },
  {
   "cell_type": "code",
   "execution_count": 9,
   "id": "a6e0e4f8",
   "metadata": {},
   "outputs": [
    {
     "name": "stdout",
     "output_type": "stream",
     "text": [
      "\n",
      "Translated Text:\n",
      "# బ్లాగ్ అవుట్‌లైన్: కృత్రిమ మేధస్సు భవిష్యత్తు\n",
      "\n",
      "## పరిచయం\n",
      "- కృత్రిమ మేధస్సు (AI) మరియు దాని ప్రస్తుత స్థితి యొక్క సంక్షిప్త అవలోకనం\n",
      "- AI భవిష్యత్తు గురించి చర్చించాల్సిన అవసరం\n",
      "- బ్లాగ్ యొక్క ఉద్దేశ్యం మరియు పరిధి\n",
      "\n",
      "## విభాగం 1: AI పరిణామం\n",
      "- AI అభివృద్ధి యొక్క చారిత్రక నేపథ్యం\n",
      "- AI సాంకేతికతలో ముఖ్యమైన మైలురాళ్లు\n",
      "- AIలో ప్రస్తుత ధోరణులు మరియు పురోగతులు\n",
      "\n",
      "## విభాగం 2: ఉద్భవిస్తున్న AI సాంకేతికతలు\n",
      "- ఆధునిక AI సాంకేతికతల అవలోకనం\n",
      "  - మెషిన్ లెర్నింగ్ మరియు డీప్ లెర్నింగ్\n",
      "  - నేచురల్ లాంగ్వేజ్ ప్రాసెసింగ్ (NLP)\n",
      "  - కంప్యూటర్ విజన్\n",
      "  - రోబోటిక్స్ మరియు ఆటోమేషన్\n",
      "- ప్రభావిత అనువర్తనాలు మరియు పరిశ్రమలు\n",
      "\n",
      "## విభాగం 3: రోజువారీ జీవితంలో AI\n",
      "- రోజువారీ జీవితంలో AI యొక్క ప్రస్తుత అనువర్తనాలు\n",
      "  - వర్చువల్ అసిస్టెంట్లు మరియు స్మార్ట్ హోమ్ పరికరాలు\n",
      "  - వ్యక్తిగత సిఫారసులు మరియు కంటెంట్ క్యూరేషన్\n",
      "  - ఆరోగ్యం మరియు వైద్య నిర్ధారణలు\n",
      "- భవిష్యత్తు అవకాశాలు మరియు ఆవిష్కరణలు\n",
      "\n",
      "## విభాగం 4: నైతిక మరియు సామాజిక ప్రభావాలు\n",
      "- AI అభివృద్ధిలో నైతిక పరిగణనలు\n",
      "  - AI అల్గోరిథమ్స్‌లో పక్షపాతం మరియు న్యాయం\n",
      "  - గోప్యత మరియు డేటా భద్రతా ఆందోళనలు\n",
      "- AI యొక్క సామాజిక ప్రభావం\n",
      "  - ఉద్యోగ స్థానచలనం మరియు పని భవిష్యత్తు\n",
      "  - నిర్ణయాలు మరియు పాలనలో AI\n",
      "\n",
      "## విభాగం 5: గ్లోబల్ సవాళ్లను పరిష్కరించడంలో AI పాత్ర\n",
      "- వాతావరణ మార్పులను ఎదుర్కొనేందుకు AI యొక్క సామర్థ్యం\n",
      "- ఆరోగ్యం మరియు వ్యాధి నివారణలో AI\n",
      "- AI ద్వారా విద్య మరియు అభ్యాసాన్ని మెరుగుపరచడం\n",
      "\n",
      "## విభాగం 6: AI పరిశోధన మరియు అభివృద్ధి భవిష్యత్తు\n",
      "- పరిశోధన మరియు ఆవిష్కరణ యొక్క కీలక ప్రాంతాలు\n",
      "- AI అభివృద్ధిలో ప్రభుత్వాలు మరియు విధానాల పాత్ర\n",
      "- విద్యా సంస్థలు, పరిశ్రమ మరియు ప్రభుత్వాల మధ్య సహకారం\n",
      "\n",
      "## విభాగం 7: AI-ఆధారిత భవిష్యత్తుకు సిద్ధమవ్వడం\n",
      "- AI-కేంద్రిత ప్రపంచానికి అవసరమైన నైపుణ్యాలు మరియు విద్య\n",
      "- బాధ్యతాయుతమైన AI అభివృద్ధి మరియు వినియోగాన్ని ప్రోత్సహించడం\n",
      "- AI పట్ల ప్రజల నమ్మకం మరియు అవగాహనను నిర్మించడం\n",
      "\n",
      "## ముగింపు\n",
      "- AI యొక్క సామర్థ్యం మరియు సవాళ్ల యొక్క పునశ్చరణ\n",
      "- AI భవిష్యత్తుతో చురుకైన నిమగ్నత యొక్క ప్రాముఖ్యత\n",
      "- AI గురించి సమాచారం పొందడానికి మరియు పాల్గొనడానికి పాఠకులను ప్రోత్సహించండి\n",
      "\n",
      "## అదనపు వనరులు\n",
      "- AI పై సిఫారసు చేసిన పుస్తకాలు, వ్యాసాలు మరియు 다큐మెంటరీలు\n",
      "- AI పరిశోధనా సంస్థలు మరియు థింక్ ట్యాంక్‌లకు లింకులు\n",
      "- మరింత చదవడం మరియు అన్వేషణ కోసం సూచనలు\n",
      "\n",
      "## చర్యకు పిలుపు\n",
      "- AI గురించి తమ ఆలోచనలు మరియు అంచనాలను పంచుకోవాలని పాఠకులను ప్రోత్సహించండి\n",
      "- సాంకేతికత మరియు ఆవిష్కరణలపై మరింత కంటెంట్ కోసం పాఠకులను సభ్యత్వాన్ని పొందమని ఆహ్వానించండి\n"
     ]
    }
   ],
   "source": [
    "print(\"\\nTranslated Text:\")\n",
    "print(response[\"translated_text\"])"
   ]
  }
 ],
 "metadata": {
  "kernelspec": {
   "display_name": "env",
   "language": "python",
   "name": "python3"
  },
  "language_info": {
   "codemirror_mode": {
    "name": "ipython",
    "version": 3
   },
   "file_extension": ".py",
   "mimetype": "text/x-python",
   "name": "python",
   "nbconvert_exporter": "python",
   "pygments_lexer": "ipython3",
   "version": "3.11.9"
  }
 },
 "nbformat": 4,
 "nbformat_minor": 5
}

{
 "cells": [
  {
   "cell_type": "markdown",
   "id": "6521ddde",
   "metadata": {},
   "source": [
    "### Understanding SQL Agents"
   ]
  },
  {
   "cell_type": "code",
   "execution_count": 1,
   "id": "68c13704",
   "metadata": {},
   "outputs": [],
   "source": [
    "import os\n",
    "\n",
    "from dotenv import load_dotenv\n",
    "from langchain.text_splitter import CharacterTextSplitter\n",
    "from langchain_openai import ChatOpenAI, OpenAIEmbeddings\n",
    "from langchain_community.vectorstores import Chroma\n",
    "from langchain_community.document_loaders import TextLoader\n",
    "from langchain_community.utilities import SQLDatabase"
   ]
  },
  {
   "cell_type": "code",
   "execution_count": 8,
   "id": "351bf25c",
   "metadata": {},
   "outputs": [],
   "source": [
    "load_dotenv(override=True)\n",
    "\n",
    "openai_api_key = os.getenv(\"OPENAI_API_KEY\")\n",
    "\n",
    "if not openai_api_key:\n",
    "    raise ValueError(\"OPENAI_API_KEY environment variable is not set.\")\n",
    "\n",
    "temperature = 0.7\n",
    "max_tokens = 1500\n",
    "model_name = \"gpt-3.5-turbo\"\n",
    "\n",
    "llm = ChatOpenAI(\n",
    "    model=model_name,\n",
    "    temperature=temperature,\n",
    "    max_tokens=max_tokens,\n",
    "    openai_api_key=openai_api_key\n",
    ")"
   ]
  },
  {
   "cell_type": "code",
   "execution_count": 9,
   "id": "565f2d08",
   "metadata": {},
   "outputs": [
    {
     "name": "stdout",
     "output_type": "stream",
     "text": [
      "sqlite\n",
      "['Album', 'Artist', 'Customer', 'Employee', 'Genre', 'Invoice', 'InvoiceLine', 'MediaType', 'Playlist', 'PlaylistTrack', 'Track']\n"
     ]
    }
   ],
   "source": [
    "db_path = \"sqlite:///./chinook.db\"\n",
    "db = SQLDatabase.from_uri(db_path)\n",
    "\n",
    "print(db.dialect)\n",
    "print(db.get_usable_table_names())"
   ]
  },
  {
   "cell_type": "code",
   "execution_count": 10,
   "id": "a9413ffe",
   "metadata": {},
   "outputs": [],
   "source": [
    "from langchain.chains import create_sql_query_chain\n",
    "\n",
    "chain = create_sql_query_chain(\n",
    "    llm=llm,\n",
    "    db=db,\n",
    ")"
   ]
  },
  {
   "cell_type": "code",
   "execution_count": 11,
   "id": "144c69cd",
   "metadata": {},
   "outputs": [
    {
     "name": "stdout",
     "output_type": "stream",
     "text": [
      "Question: How many employees are there in the database?\n",
      "Response: SELECT COUNT(EmployeeId) AS TotalEmployees\n",
      "FROM Employee;\n"
     ]
    }
   ],
   "source": [
    "question = \"How many employees are there in the database?\"\n",
    "\n",
    "response = chain.invoke({\n",
    "    \"question\": question\n",
    "})\n",
    "\n",
    "print(\"Question:\", question)\n",
    "print(\"Response:\", response)"
   ]
  },
  {
   "cell_type": "code",
   "execution_count": 6,
   "id": "3e700a6f",
   "metadata": {},
   "outputs": [
    {
     "name": "stdout",
     "output_type": "stream",
     "text": [
      "Question: which country's customers have spent the most?\n",
      "Response: ```sql\n",
      "SELECT \"Customer\".\"Country\", SUM(\"Invoice\".\"Total\") AS \"TotalSpent\"\n",
      "FROM \"Customer\"\n",
      "JOIN \"Invoice\" ON \"Customer\".\"CustomerId\" = \"Invoice\".\"CustomerId\"\n",
      "GROUP BY \"Customer\".\"Country\"\n",
      "ORDER BY \"TotalSpent\" DESC\n",
      "LIMIT 5;\n",
      "```\n"
     ]
    }
   ],
   "source": [
    "question = \"which country's customers have spent the most?\"\n",
    "\n",
    "chain = create_sql_query_chain(\n",
    "    llm=llm,\n",
    "    db=db,\n",
    ")\n",
    "\n",
    "response = chain.invoke({\n",
    "    \"question\": question\n",
    "})\n",
    "\n",
    "print(\"Question:\", question)\n",
    "print(\"Response:\", response)"
   ]
  },
  {
   "cell_type": "code",
   "execution_count": null,
   "id": "c23cb0de",
   "metadata": {},
   "outputs": [],
   "source": [
    "question = \"How many employees are there in the database?\"\n",
    "\n",
    "response = chain.invoke({\n",
    "    \"question\": question\n",
    "})\n",
    "\n",
    "print(\"Question:\", question)\n",
    "print(\"Response:\", response)"
   ]
  },
  {
   "cell_type": "code",
   "execution_count": null,
   "id": "1da29bfe",
   "metadata": {},
   "outputs": [],
   "source": [
    "db.run(response)"
   ]
  },
  {
   "cell_type": "code",
   "execution_count": 7,
   "id": "d6b0480d",
   "metadata": {},
   "outputs": [
    {
     "name": "stdout",
     "output_type": "stream",
     "text": [
      "You are a SQLite expert. Given an input question, first create a syntactically correct SQLite query to run, then look at the results of the query and return the answer to the input question.\n",
      "Unless the user specifies in the question a specific number of examples to obtain, query for at most 5 results using the LIMIT clause as per SQLite. You can order the results to return the most informative data in the database.\n",
      "Never query for all columns from a table. You must query only the columns that are needed to answer the question. Wrap each column name in double quotes (\") to denote them as delimited identifiers.\n",
      "Pay attention to use only the column names you can see in the tables below. Be careful to not query for columns that do not exist. Also, pay attention to which column is in which table.\n",
      "Pay attention to use date('now') function to get the current date, if the question involves \"today\".\n",
      "\n",
      "Use the following format:\n",
      "\n",
      "Question: Question here\n",
      "SQLQuery: SQL Query to run\n",
      "SQLResult: Result of the SQLQuery\n",
      "Answer: Final answer here\n",
      "\n",
      "Only use the following tables:\n",
      "\u001b[33;1m\u001b[1;3m{table_info}\u001b[0m\n",
      "\n",
      "Question: \u001b[33;1m\u001b[1;3m{input}\u001b[0m\n"
     ]
    }
   ],
   "source": [
    "chain.get_prompts()[0].pretty_print()"
   ]
  },
  {
   "cell_type": "code",
   "execution_count": 12,
   "id": "516b179c",
   "metadata": {},
   "outputs": [],
   "source": [
    "from langchain_community.tools.sql_database.tool import QuerySQLDatabaseTool\n",
    "from langchain_core.tools import tool\n",
    "\n",
    "\n",
    "@tool\n",
    "def parse(query_string: str) -> str:\n",
    "    \"\"\"Parse the SQL query string and return a human-readable explanation.\"\"\"\n",
    "\n",
    "    splitted_string = query_string.split(\":\")\n",
    "\n",
    "    if (len(splitted_string) >= 2):\n",
    "        query = splitted_string[1].strip()\n",
    "    else:\n",
    "        query = query_string\n",
    "\n",
    "    return query.strip()"
   ]
  },
  {
   "cell_type": "code",
   "execution_count": 13,
   "id": "483cf2fd",
   "metadata": {},
   "outputs": [
    {
     "name": "stderr",
     "output_type": "stream",
     "text": [
      "C:\\Users\\LENOVO\\AppData\\Local\\Temp\\ipykernel_6332\\3616401478.py:1: LangChainDeprecationWarning: The method `BaseTool.__call__` was deprecated in langchain-core 0.1.47 and will be removed in 1.0. Use :meth:`~invoke` instead.\n",
      "  parse(\"\"\"\n"
     ]
    },
    {
     "data": {
      "text/plain": [
       "'SELECT COUNT(\"EmployeeId\") AS EmployeeCount\\n        FROM Employee'"
      ]
     },
     "execution_count": 13,
     "metadata": {},
     "output_type": "execute_result"
    }
   ],
   "source": [
    "parse(\"\"\"\n",
    "      SELECT COUNT(\"EmployeeId\") AS EmployeeCount\n",
    "        FROM Employee\n",
    "      \"\"\")"
   ]
  },
  {
   "cell_type": "code",
   "execution_count": 14,
   "id": "0f1a8573",
   "metadata": {},
   "outputs": [
    {
     "data": {
      "text/plain": [
       "'SELECT COUNT(\"EmployeeId\") AS EmployeeCount\\n        FROM Employee'"
      ]
     },
     "execution_count": 14,
     "metadata": {},
     "output_type": "execute_result"
    }
   ],
   "source": [
    "parse(\"\"\"\n",
    "      ```sql```: SELECT COUNT(\"EmployeeId\") AS EmployeeCount\n",
    "        FROM Employee\n",
    "      \"\"\")"
   ]
  },
  {
   "cell_type": "code",
   "execution_count": 15,
   "id": "f54e88ea",
   "metadata": {},
   "outputs": [
    {
     "name": "stdout",
     "output_type": "stream",
     "text": [
      "Question: How many employees are there in the database?\n",
      "Response: [(8,)]\n"
     ]
    }
   ],
   "source": [
    "execute_query = QuerySQLDatabaseTool(db=db)\n",
    "write_query = create_sql_query_chain(\n",
    "    llm=llm,\n",
    "    db=db,\n",
    ")\n",
    "chain = write_query | parse | execute_query\n",
    "question = \"How many employees are there in the database?\"\n",
    "response = chain.invoke({\n",
    "    \"question\": question\n",
    "})\n",
    "\n",
    "print(\"Question:\", question)\n",
    "print(\"Response:\", response)"
   ]
  },
  {
   "cell_type": "code",
   "execution_count": 16,
   "id": "55e76775",
   "metadata": {},
   "outputs": [
    {
     "name": "stdout",
     "output_type": "stream",
     "text": [
      "Question: which country's customers have spent the most?\n",
      "Response: [('USA', 523.06)]\n"
     ]
    }
   ],
   "source": [
    "question = \"which country's customers have spent the most?\"\n",
    "\n",
    "execute_query = QuerySQLDatabaseTool(db=db)\n",
    "write_query = create_sql_query_chain(\n",
    "    llm=llm,\n",
    "    db=db,\n",
    ")\n",
    "chain = write_query | parse | execute_query\n",
    "\n",
    "response = chain.invoke({\n",
    "    \"question\": question\n",
    "})\n",
    "\n",
    "print(\"Question:\", question)\n",
    "print(\"Response:\", response)"
   ]
  },
  {
   "cell_type": "code",
   "execution_count": 18,
   "id": "1f032ff8",
   "metadata": {},
   "outputs": [],
   "source": [
    "from operator import itemgetter\n",
    "from langchain_core.output_parsers import StrOutputParser\n",
    "from langchain_core.prompts import PromptTemplate\n",
    "from langchain_core.runnables import RunnablePassthrough"
   ]
  },
  {
   "cell_type": "code",
   "execution_count": 19,
   "id": "80de344e",
   "metadata": {},
   "outputs": [],
   "source": [
    "answer_prompt = PromptTemplate.from_template(\n",
    "    \"\"\"\n",
    "        Given the following user question, corresponding SQL Query, and SQL Result, answer the user question in a concise manner.\n",
    "        \n",
    "        User Question: {question}\n",
    "        SQL Query: {query}\n",
    "        SQL Result: {result}\n",
    "        Answer: \n",
    "    \"\"\"\n",
    ")\n",
    "\n",
    "chain = RunnablePassthrough \\\n",
    "    .assign(query=write_query) \\\n",
    "    .assign(result=itemgetter(\"query\") | parse | execute_query) | \\\n",
    "    answer_prompt | llm | StrOutputParser()"
   ]
  },
  {
   "cell_type": "code",
   "execution_count": 20,
   "id": "2becdddb",
   "metadata": {},
   "outputs": [
    {
     "name": "stdout",
     "output_type": "stream",
     "text": [
      "Question: How many employees are there in the database?\n",
      "Response: There are 8 employees in the database.\n"
     ]
    }
   ],
   "source": [
    "question = \"How many employees are there in the database?\"\n",
    "\n",
    "response = chain.invoke({\n",
    "    \"question\": question\n",
    "})\n",
    "\n",
    "print(\"Question:\", question)\n",
    "print(\"Response:\", response)"
   ]
  },
  {
   "cell_type": "code",
   "execution_count": 22,
   "id": "f953ddb5",
   "metadata": {},
   "outputs": [
    {
     "name": "stdout",
     "output_type": "stream",
     "text": [
      "Question: which country's customers have spent the most and give me their total spending?\n",
      "Response: The customers from the USA have spent the most, with a total spending of $523.06.\n"
     ]
    }
   ],
   "source": [
    "question = \"which country's customers have spent the most and give me their total spending?\"\n",
    "\n",
    "response = chain.invoke({\n",
    "    \"question\": question\n",
    "})\n",
    "\n",
    "print(\"Question:\", question)\n",
    "print(\"Response:\", response)"
   ]
  },
  {
   "cell_type": "code",
   "execution_count": 23,
   "id": "971391cd",
   "metadata": {},
   "outputs": [],
   "source": [
    "import ast\n",
    "import re\n",
    "\n",
    "\n",
    "def query_as_list(database, query):\n",
    "    \"\"\"\n",
    "    Execute a SQL query and return the results as a list of dictionaries.\n",
    "    \"\"\"\n",
    "    result = database.run(query)\n",
    "    result = [el for sub in ast.literal_eval(result) for el in sub if el]\n",
    "    result = [re.sub(r\"\\b\\d+\\b\", \"\", string).strip() for string in result]\n",
    "\n",
    "    return list(set(result))\n",
    "\n",
    "artists = query_as_list(db, \"SELECT Name FROM Artist\")\n",
    "albums = query_as_list(db, \"SELECT Title FROM Album\")"
   ]
  },
  {
   "cell_type": "code",
   "execution_count": 24,
   "id": "e6c9b2a5",
   "metadata": {},
   "outputs": [
    {
     "data": {
      "text/plain": [
       "'Lenny Kravitz'"
      ]
     },
     "execution_count": 24,
     "metadata": {},
     "output_type": "execute_result"
    }
   ],
   "source": [
    "artists[5]"
   ]
  },
  {
   "cell_type": "code",
   "execution_count": 25,
   "id": "a3d1e2e4",
   "metadata": {},
   "outputs": [
    {
     "data": {
      "text/plain": [
       "['Retrospective I (-)',\n",
       " 'Os Cães Ladram Mas A Caravana Não Pára',\n",
       " 'Bach: Violin Concertos',\n",
       " 'The Last Night of the Proms',\n",
       " 'Body Count']"
      ]
     },
     "execution_count": 25,
     "metadata": {},
     "output_type": "execute_result"
    }
   ],
   "source": [
    "albums[:5]"
   ]
  },
  {
   "cell_type": "code",
   "execution_count": 26,
   "id": "1d8eba4e",
   "metadata": {},
   "outputs": [],
   "source": [
    "from langchain.agents.agent_toolkits import create_retriever_tool\n",
    "from langchain_community.vectorstores import FAISS"
   ]
  },
  {
   "cell_type": "code",
   "execution_count": 27,
   "id": "4fe2e848",
   "metadata": {},
   "outputs": [],
   "source": [
    "vector_database = FAISS.from_texts(\n",
    "    texts=artists + albums,\n",
    "    embedding=OpenAIEmbeddings(openai_api_key=openai_api_key),\n",
    ")\n",
    "\n",
    "retriever = vector_database.as_retriever(\n",
    "    search_type=\"similarity\",\n",
    "    search_kwargs={\"k\": 2}\n",
    ")\n",
    "\n",
    "description = \"\"\"\n",
    "    use to lookup values to filter on.\n",
    "    input is an approximate spelling of the valid and proper nouns.\n",
    "    Use the noun most similar to the input.\n",
    "    If the input is not a valid noun, return an empty string.\n",
    "\"\"\"\n",
    "\n",
    "retriever_tool = create_retriever_tool(\n",
    "    retriever=retriever,\n",
    "    name=\"retriever\",\n",
    "    description=description,\n",
    ")"
   ]
  },
  {
   "cell_type": "code",
   "execution_count": 28,
   "id": "4375e5dc",
   "metadata": {},
   "outputs": [
    {
     "name": "stdout",
     "output_type": "stream",
     "text": [
      "Input: Alis Chains\n",
      "Response: Alice In Chains\n",
      "\n",
      "Aisha Duo\n"
     ]
    }
   ],
   "source": [
    "response = retriever_tool.invoke(\"Alis Chains\")\n",
    "\n",
    "print(\"Input: Alis Chains\")\n",
    "print(\"Response:\", response)"
   ]
  },
  {
   "cell_type": "code",
   "execution_count": 29,
   "id": "4cd6da0a",
   "metadata": {},
   "outputs": [
    {
     "name": "stdout",
     "output_type": "stream",
     "text": [
      "Input: Alis Chains\n",
      "Response: Alice In Chains\n",
      "\n",
      "Alanis Morissette\n"
     ]
    }
   ],
   "source": [
    "response = retriever_tool.invoke(\"Do we have any artists by named Alis Chains\")\n",
    "\n",
    "print(\"Input: Alis Chains\")\n",
    "print(\"Response:\", response)"
   ]
  }
 ],
 "metadata": {
  "kernelspec": {
   "display_name": "env",
   "language": "python",
   "name": "python3"
  },
  "language_info": {
   "codemirror_mode": {
    "name": "ipython",
    "version": 3
   },
   "file_extension": ".py",
   "mimetype": "text/x-python",
   "name": "python",
   "nbconvert_exporter": "python",
   "pygments_lexer": "ipython3",
   "version": "3.11.9"
  }
 },
 "nbformat": 4,
 "nbformat_minor": 5
}
